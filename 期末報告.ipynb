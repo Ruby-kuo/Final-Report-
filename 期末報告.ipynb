{
  "nbformat": 4,
  "nbformat_minor": 0,
  "metadata": {
    "colab": {
      "name": "Untitled10.ipynb",
      "provenance": []
    },
    "kernelspec": {
      "name": "python3",
      "display_name": "Python 3"
    }
  },
  "cells": [
    {
      "cell_type": "code",
      "metadata": {
        "id": "T3RLyGrOuxMy",
        "colab_type": "code",
        "colab": {
          "base_uri": "https://localhost:8080/",
          "height": 93
        },
        "outputId": "9f26e6c3-4c56-492f-b1db-343964b52956"
      },
      "source": [
        "# 機器人名稱: 吃吃\n",
        "# 機器人打招呼\n",
        "# 機器人自我介紹\n",
        "print(\"哈囉! 我是吃吃，一個熱愛蒐集美食情報的小吃貨\")\n",
        "print(\"只要是景美的美食都是我的情報來源唷\")\n",
        "\n",
        "#取得使用者名稱\n",
        "name = input(\"主人叫什麼名字,人家下次想叫您的名字喔:\")\n",
        "\n",
        "# 詢問要吃哪種美食\n",
        "print(\"想要找離捷運美食(-1) 巷弄美食(2)還是其他(-2)呢？\")\n",
        "choice = input(\"請輸入選擇?\")\n",
        "choice = int(choice) \n",
        "if choice <=-1: \n",
        "  print(\"請重新選擇\")\n",
        "elif choice >=-1:\n",
        "  print(choice,\"瀚星百貨的魔法咖哩是人氣首選喔\")\n",
        "else:\n",
        "  print(choice,\"曾記麻油雞在您的收藏名單喔\")\n",
        "\n",
        "#告知使用者地址\n",
        "if choice <=-1: \n",
        "  print(\"請重新選擇\")\n",
        "elif choice >=-1:\n",
        "  print(choice,\"台北市文山區景興路118號地下一樓\")\n",
        "else:\n",
        "  print(choice,\"台北市文山區景美街15號\")\n",
        "\n",
        "print(\"吃吃祝福主人今天也要吃飽飽喔！\")\n"
      ],
      "execution_count": null,
      "outputs": [
        {
          "output_type": "stream",
          "text": [
            "哈囉! 我是吃吃，一個熱愛蒐集美食情報的小吃貨\n",
            "只要是景美的美食都是我的情報來源唷\n"
          ],
          "name": "stdout"
        }
      ]
    }
  ]
}
